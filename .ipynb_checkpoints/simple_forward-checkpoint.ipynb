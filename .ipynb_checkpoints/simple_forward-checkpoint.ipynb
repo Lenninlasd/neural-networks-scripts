{
 "cells": [
  {
   "cell_type": "code",
   "execution_count": 1,
   "metadata": {
    "collapsed": true
   },
   "outputs": [],
   "source": [
    "import numpy as np\n",
    "\n",
    "# Sigmoid function\n",
    "def sigmoid(x):\n",
    "    return 1 / (1 + np.exp(-x))\n",
    "\n",
    "# Derivative of the sigmoid function\n",
    "def sigmoid_prime(x):\n",
    "    return sigmoid(x) * (1 - sigmoid(x))\n",
    "\n",
    "def SSE(y, x):\n",
    "    #sum of the squared errors (SSE)\n",
    "    return 0.5*np.sum((y - x)**2)"
   ]
  },
  {
   "cell_type": "code",
   "execution_count": 2,
   "metadata": {
    "collapsed": true
   },
   "outputs": [],
   "source": [
    "y = np.array([0.3])\n",
    "\n",
    "inputs = np.array([2,4,5])\n"
   ]
  },
  {
   "cell_type": "markdown",
   "metadata": {},
   "source": [
    "### Weights\n",
    "We want these to be small such that the input to the sigmoid is in the linear region near 0 and not squashed at the high and low ends. It's also important to initialize them randomly so that they all have different starting values and diverge, breaking symmetry. So, we'll initialize the weights from a normal distribution centered at 0. A good value for the scale is 1/√n where n is the number of input units. This keeps the input to the sigmoid low for increasing numbers of input units."
   ]
  },
  {
   "cell_type": "code",
   "execution_count": 3,
   "metadata": {},
   "outputs": [
    {
     "name": "stdout",
     "output_type": "stream",
     "text": [
      "[ 0.41253835 -0.5639937   0.09712351]\n"
     ]
    }
   ],
   "source": [
    "weights = np.random.normal(scale=1/3**.5, size=3)\n",
    "bias = np.random.normal(scale=1/3**.5, size=1)\n",
    "print(weights)"
   ]
  },
  {
   "cell_type": "code",
   "execution_count": 4,
   "metadata": {
    "collapsed": true
   },
   "outputs": [],
   "source": [
    "del_w = 0\n",
    "last_loss = None\n",
    "\n",
    "# Neural Network hyperparameters\n",
    "epochs = 1000\n",
    "learnrate = 0.00001"
   ]
  },
  {
   "cell_type": "code",
   "execution_count": 5,
   "metadata": {
    "scrolled": false
   },
   "outputs": [
    {
     "name": "stdout",
     "output_type": "stream",
     "text": [
      "0 0.00083065007726\n",
      "10 0.00082913460413\n",
      "20 0.000824872633275\n",
      "30 0.000817889586203\n",
      "40 0.000808227188924\n",
      "50 0.000795943329843\n",
      "60 0.000781111860145\n",
      "70 0.000763822334949\n",
      "80 0.000744179693107\n",
      "90 0.000722303873152\n",
      "100 0.000698329362585\n",
      "110 0.000672404677466\n",
      "120 0.000644691769102\n",
      "130 0.000615365354585\n",
      "140 0.000584612167948\n",
      "150 0.000552630128887\n",
      "160 0.000519627426254\n",
      "170 0.000485821513946\n",
      "180 0.000451438017377\n",
      "190 0.000416709549375\n",
      "200 0.000381874435238\n",
      "210 0.000347175347638\n",
      "220 0.000312857853225\n",
      "230 0.000279168874045\n",
      "240 0.000246355068342\n",
      "250 0.000214661136811\n",
      "260 0.000184328062062\n",
      "270 0.000155591290758\n",
      "280 0.000128678869684\n",
      "290 0.000103809548862\n",
      "300 8.11908665844e-05\n",
      "310 6.10172330558e-05\n",
      "320 4.34680310023e-05\n",
      "330 2.87057531473e-05\n",
      "340 1.68741978423e-05\n",
      "350 8.09674527571e-06\n",
      "360 2.47473755836e-06\n",
      "370 8.59865338551e-08\n",
      "last error: 373 8.43270624347e-09\n"
     ]
    }
   ],
   "source": [
    "for e in range(epochs):\n",
    "    mat_mult = np.dot(inputs, np.transpose(weights)) + bias\n",
    "#     print(mat_mult)\n",
    "    output = sigmoid(mat_mult)\n",
    "#     print('sigmoid', output)\n",
    "    error_term = (y - output)*sigmoid_prime(mat_mult)\n",
    "    del_w = del_w + error_term*inputs\n",
    "#     print(del_w)\n",
    "    weights += learnrate*del_w\n",
    "    \n",
    "    error = SSE(y, output)\n",
    "    \n",
    "    if e % 10 == 0:\n",
    "        print(e, error)\n",
    "    if last_loss and last_loss < error:\n",
    "        print('last error:', e, error)\n",
    "        break\n",
    "    else:\n",
    "        last_loss = error"
   ]
  },
  {
   "cell_type": "code",
   "execution_count": 6,
   "metadata": {},
   "outputs": [
    {
     "data": {
      "text/plain": [
       "8.4327062434678175e-09"
      ]
     },
     "execution_count": 6,
     "metadata": {},
     "output_type": "execute_result"
    }
   ],
   "source": [
    "error"
   ]
  },
  {
   "cell_type": "code",
   "execution_count": 7,
   "metadata": {},
   "outputs": [
    {
     "data": {
      "text/plain": [
       "array([ 0.42160957, -0.54585125,  0.11980157])"
      ]
     },
     "execution_count": 7,
     "metadata": {},
     "output_type": "execute_result"
    }
   ],
   "source": [
    "weights\n"
   ]
  },
  {
   "cell_type": "code",
   "execution_count": 8,
   "metadata": {},
   "outputs": [
    {
     "data": {
      "text/plain": [
       "array([ 0.30012987])"
      ]
     },
     "execution_count": 8,
     "metadata": {},
     "output_type": "execute_result"
    }
   ],
   "source": [
    "output"
   ]
  },
  {
   "cell_type": "code",
   "execution_count": null,
   "metadata": {
    "collapsed": true
   },
   "outputs": [],
   "source": []
  }
 ],
 "metadata": {
  "anaconda-cloud": {},
  "kernelspec": {
   "display_name": "Python 3",
   "language": "python",
   "name": "python3"
  },
  "language_info": {
   "codemirror_mode": {
    "name": "ipython",
    "version": 3
   },
   "file_extension": ".py",
   "mimetype": "text/x-python",
   "name": "python",
   "nbconvert_exporter": "python",
   "pygments_lexer": "ipython3",
   "version": "3.5.3"
  }
 },
 "nbformat": 4,
 "nbformat_minor": 1
}

{
 "cells": [
  {
   "cell_type": "code",
   "execution_count": 1,
   "metadata": {},
   "outputs": [
    {
     "name": "stdout",
     "output_type": "stream",
     "text": [
      "Extracting MNIST_data/train-images-idx3-ubyte.gz\n",
      "Extracting MNIST_data/train-labels-idx1-ubyte.gz\n",
      "Extracting MNIST_data/t10k-images-idx3-ubyte.gz\n",
      "Extracting MNIST_data/t10k-labels-idx1-ubyte.gz\n"
     ]
    }
   ],
   "source": [
    "import matplotlib.pyplot as plt\n",
    "import numpy as np\n",
    "from tensorflow.examples.tutorials.mnist import input_data\n",
    "mnist = input_data.read_data_sets(\"MNIST_data/\", one_hot=True)"
   ]
  },
  {
   "cell_type": "code",
   "execution_count": 2,
   "metadata": {
    "collapsed": true
   },
   "outputs": [],
   "source": [
    "# Sigmoid function\n",
    "def sigmoid(x):\n",
    "    return 1 / (1 + np.exp(-x))\n",
    "\n",
    "\n",
    "def SSE(y, y_hat):\n",
    "    #sum of the squared errors (SSE)\n",
    "    return 0.5*np.sum((y - y_hat)**2)\n",
    "\n",
    "def softmax(w, t = 1.0):\n",
    "    e = np.exp(np.array(w) / t)\n",
    "    dist = e / np.sum(e)\n",
    "    return dist"
   ]
  },
  {
   "cell_type": "code",
   "execution_count": 3,
   "metadata": {
    "collapsed": true
   },
   "outputs": [],
   "source": [
    "records = 5000\n",
    "# The features are already scaled and the data is shuffled\n",
    "train_features = mnist.train.images[:records,:]\n",
    "valid_features = mnist.validation.images\n",
    "test_features = mnist.test.images\n",
    "\n",
    "train_labels = mnist.train.labels.astype(np.float32)[:records,:]\n",
    "valid_labels = mnist.validation.labels.astype(np.float32)\n",
    "test_labels = mnist.test.labels.astype(np.float32)"
   ]
  },
  {
   "cell_type": "code",
   "execution_count": 4,
   "metadata": {},
   "outputs": [
    {
     "name": "stdout",
     "output_type": "stream",
     "text": [
      "number of features:  784\n",
      "label example one_hot:  [ 0.  0.  0.  0.  0.  0.  0.  0.  1.  0.]\n",
      "n_records 5000\n"
     ]
    },
    {
     "data": {
      "image/png": "[encoded data removed]",
      "text/plain": [
       "<matplotlib.figure.Figure at 0x10368d6a0>"
      ]
     },
     "metadata": {},
     "output_type": "display_data"
    }
   ],
   "source": [
    "numberKey = 5\n",
    "n_records, n_features = train_features.shape  # MNIST data input (img shape: 28*28)\n",
    "n_classes = 10  # MNIST total classes (0-9 digits)\n",
    "\n",
    "print('number of features: ', n_features)\n",
    "print('label example one_hot: ', train_labels[numberKey])\n",
    "print('n_records', n_records)\n",
    "plt.imshow(train_features[numberKey].reshape((28, 28)))\n",
    "plt.show()"
   ]
  },
  {
   "cell_type": "code",
   "execution_count": 5,
   "metadata": {
    "collapsed": true
   },
   "outputs": [],
   "source": [
    "targets = train_labels\n",
    "inputs = train_features\n",
    "n_hidden = 100  # number of hidden units"
   ]
  },
  {
   "cell_type": "markdown",
   "metadata": {},
   "source": [
    "### Weights\n",
    "We want these to be small such that the input to the sigmoid is in the linear region near 0 and not squashed at the high and low ends. It's also important to initialize them randomly so that they all have different starting values and diverge, breaking symmetry. So, we'll initialize the weights from a normal distribution centered at 0. A good value for the scale is 1/√n where n is the number of input units. This keeps the input to the sigmoid low for increasing numbers of input units."
   ]
  },
  {
   "cell_type": "code",
   "execution_count": 13,
   "metadata": {
    "scrolled": false
   },
   "outputs": [
    {
     "name": "stdout",
     "output_type": "stream",
     "text": [
      "Train loss:  0.229306475173\n",
      "Train loss:  0.207432366788\n",
      "Train loss:  0.189163166559\n",
      "Train loss:  0.174049441356\n",
      "Train loss:  0.161604541091\n",
      "Train loss:  0.151364468786\n",
      "Train loss:  0.142919525556\n",
      "Train loss:  0.135924977288\n",
      "Train loss:  0.130099277345\n",
      "Train loss:  0.125216469051\n",
      "Train loss:  0.121096852121\n",
      "Train loss:  0.117598004093\n",
      "Train loss:  0.114607009848\n",
      "Train loss:  0.11203409745\n",
      "Train loss:  0.109807582393\n",
      "Train loss:  0.107869917888\n",
      "Train loss:  0.106174635077\n",
      "Train loss:  0.104683980237\n",
      "Train loss:  0.103367089895\n",
      "Train loss:  0.102198578106\n",
      "Train loss:  0.101157438684\n",
      "Train loss:  0.100226188205\n",
      "Train loss:  0.0993901935027\n",
      "Train loss:  0.0986371410171\n",
      "Train loss:  0.0979566157185\n",
      "Train loss:  0.0973397650767\n",
      "Train loss:  0.0967790293876\n",
      "Train loss:  0.0962679241531\n",
      "Train loss:  0.095800863518\n",
      "Train loss:  0.0953730162654\n",
      "Train loss:  0.0949801877694\n",
      "Train loss:  0.0946187227518\n",
      "Train loss:  0.0942854247962\n",
      "Train loss:  0.0939774894303\n",
      "Train loss:  0.0936924482434\n",
      "Train loss:  0.0934281220244\n",
      "Train loss:  0.0931825813046\n",
      "Train loss:  0.0929541130062\n",
      "Train loss:  0.092741192146\n",
      "Train loss:  0.0925424577432\n",
      "Train loss:  0.092356692234\n",
      "Train loss:  0.092182803826\n",
      "Train loss:  0.0920198113233\n",
      "Train loss:  0.0918668310366\n",
      "Train loss:  0.0917230654585\n",
      "Train loss:  0.0915877934383\n",
      "Train loss:  0.0914603616334\n",
      "Train loss:  0.0913401770539\n",
      "Train loss:  0.091226700541\n",
      "Train loss:  0.0911194410516\n",
      "Train loss:  0.0910179506345\n",
      "Train loss:  0.0909218200068\n",
      "Train loss:  0.0908306746486\n",
      "Train loss:  0.0907441713486\n",
      "Train loss:  0.0906619951424\n",
      "Train loss:  0.0905838565927\n",
      "Train loss:  0.0905094893692\n",
      "Train loss:  0.0904386480911\n",
      "Train loss:  0.0903711063995\n",
      "Train loss:  0.0903066552334\n",
      "Train loss:  0.0902451012843\n",
      "Train loss:  0.0901862656081\n",
      "Train loss:  0.0901299823781\n",
      "Train loss:  0.0900760977611\n",
      "Train loss:  0.0900244689039\n",
      "Train loss:  0.0899749630182\n",
      "Train loss:  0.0899274565521\n",
      "Train loss:  0.0898818344404\n",
      "Train loss:  0.089837989424\n",
      "Train loss:  0.0897958214322\n",
      "Train loss:  0.0897552370206\n",
      "Train loss:  0.0897161488594\n",
      "Train loss:  0.0896784752672\n",
      "Train loss:  0.0896421397851\n",
      "Train loss:  0.0896070707879\n",
      "Train loss:  0.089573201128\n",
      "Train loss:  0.0895404678099\n",
      "Train loss:  0.089508811691\n",
      "Train loss:  0.0894781772079\n",
      "Train loss:  0.0894485121245\n",
      "Train loss:  0.0894197673003\n",
      "Train loss:  0.0893918964773\n",
      "Train loss:  0.0893648560836\n",
      "Train loss:  0.0893386050527\n",
      "Train loss:  0.089313104656\n",
      "Train loss:  0.0892883183486\n",
      "Train loss:  0.0892642116265\n",
      "Train loss:  0.0892407518948\n",
      "Train loss:  0.089217908345\n",
      "Train loss:  0.089195651842\n",
      "Train loss:  0.0891739548188\n",
      "Train loss:  0.089152791179\n",
      "Train loss:  0.0891321362061\n",
      "Train loss:  0.089111966479\n",
      "Train loss:  0.0890922597941\n",
      "Train loss:  0.0890729950919\n",
      "Train loss:  0.0890541523891\n",
      "Train loss:  0.0890357127151\n",
      "Train loss:  0.0890176580533\n",
      "Train loss:  0.0889999712852\n"
     ]
    }
   ],
   "source": [
    "weights = {\n",
    "    'weights_input_hidden': np.random.normal(scale=1/n_features**.5, size=(n_features, n_hidden)),\n",
    "    'weights_hidden_output': np.random.normal(scale=1/n_hidden**.5, size=(n_hidden, n_classes))\n",
    "}\n",
    "\n",
    "# Neural Network hyperparameters\n",
    "epochs = 100\n",
    "learnrate = 0.05\n",
    "\n",
    "last_loss = None\n",
    "\n",
    "\n",
    "#TODO: implement softmax and cross-entropy\n",
    "for e in range(epochs):\n",
    "    del_w_input_hidden = np.zeros(weights['weights_input_hidden'].shape)\n",
    "    del_w_hidden_output = np.zeros(weights['weights_hidden_output'].shape)\n",
    "    for x, y in zip(inputs, targets):\n",
    "        hidden_output = sigmoid(np.dot(x, weights['weights_input_hidden']))\n",
    "        output = sigmoid(np.dot(hidden_output, weights['weights_hidden_output']))\n",
    "        ## Backward pass ##\n",
    "        # δo=(y − ÿ)f′(h)\n",
    "        delta_error_output = (y - output) * output * (1 - output)\n",
    "\n",
    "        # δh = W * δo * f′(h)\n",
    "        delta_hidden_error = np.dot(weights['weights_hidden_output'], delta_error_output) * hidden_output * (1 - hidden_output)\n",
    "        \n",
    "        # TODO: Update the change in weights\n",
    "        #del_w_hidden_output += np.dot(hidden_output[:, None], delta_error_output[None, :])\n",
    "        \n",
    "        del_w_hidden_output += delta_error_output * hidden_output[:, None]\n",
    "        del_w_input_hidden += delta_hidden_error * x[:, None]\n",
    "        \n",
    "    # Update weights\n",
    "    weights['weights_input_hidden'] += learnrate * del_w_input_hidden / n_records\n",
    "    weights['weights_hidden_output'] += learnrate * del_w_hidden_output / n_records\n",
    "    \n",
    "\n",
    "    # Printing out the mean square error on the training set\n",
    "    if 1: #e % (epochs / 50) == 0:\n",
    "        hidden_output = sigmoid(np.dot(inputs, weights['weights_input_hidden']))\n",
    "        out = sigmoid(np.dot(hidden_output, weights['weights_hidden_output']))\n",
    "        loss = np.mean((out - targets) ** 2)\n",
    "\n",
    "        if last_loss and last_loss < loss:\n",
    "            print(\"Train loss: \", loss, \"  WARNING - Loss Increasing\")\n",
    "        else:\n",
    "            print(\"Train loss: \", loss)\n",
    "        last_loss = loss"
   ]
  },
  {
   "cell_type": "code",
   "execution_count": null,
   "metadata": {
    "collapsed": true
   },
   "outputs": [],
   "source": []
  }
 ],
 "metadata": {
  "anaconda-cloud": {},
  "kernelspec": {
   "display_name": "Python 3",
   "language": "python",
   "name": "python3"
  },
  "language_info": {
   "codemirror_mode": {
    "name": "ipython",
    "version": 3
   },
   "file_extension": ".py",
   "mimetype": "text/x-python",
   "name": "python",
   "nbconvert_exporter": "python",
   "pygments_lexer": "ipython3",
   "version": "3.5.3"
  }
 },
 "nbformat": 4,
 "nbformat_minor": 1
}

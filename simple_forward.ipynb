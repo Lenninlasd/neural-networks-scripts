{
 "cells": [
  {
   "cell_type": "code",
   "execution_count": 171,
   "metadata": {
    "collapsed": true
   },
   "outputs": [],
   "source": [
    "import numpy as np\n",
    "\n",
    "# Sigmoid function\n",
    "def sigmoid(x):\n",
    "    return 1 / (1 + np.exp(-x))\n",
    "\n",
    "# Derivative of the sigmoid function\n",
    "def sigmoid_prime(x):\n",
    "    return sigmoid(x) * (1 - sigmoid(x))\n",
    "\n",
    "def SSE(y, x):\n",
    "    #sum of the squared errors (SSE)\n",
    "    return 0.5*np.sum((y - x)**2)"
   ]
  },
  {
   "cell_type": "code",
   "execution_count": 172,
   "metadata": {
    "collapsed": true
   },
   "outputs": [],
   "source": [
    "y = np.array([0.3])\n",
    "\n",
    "inputs = np.array([\n",
    "    [2,4,5]\n",
    "])\n",
    "weights = np.array([\n",
    "        [0.2,0.4,0.5]\n",
    "    ])\n",
    "bias = np.array([0.2])\n",
    "\n",
    "del_w = 0\n",
    "\n",
    "# Neural Network hyperparameters\n",
    "epochs = 100000\n",
    "learnrate = 0.0000001"
   ]
  },
  {
   "cell_type": "code",
   "execution_count": null,
   "metadata": {
    "scrolled": false
   },
   "outputs": [],
   "source": [
    "del_w = 0\n",
    "last_loss = None\n",
    "weights = np.array([\n",
    "        [0.2,0.4,0.5]\n",
    "    ])\n",
    "for e in range(epochs):\n",
    "    mat_mult = np.dot(inputs, np.transpose(weights)) + bias\n",
    "#     print(mat_mult)\n",
    "    output = sigmoid(mat_mult)\n",
    "#     print('sigmoid', output)\n",
    "    error_term = (y - output)*sigmoid_prime(mat_mult)\n",
    "    del_w = del_w + error_term*inputs\n",
    "\n",
    "    weights += learnrate*del_w\n",
    "    \n",
    "    error = SSE(y, output)\n",
    "    \n",
    "    if e % 1000 == 0:\n",
    "        print(e, error)\n",
    "    if last_loss and last_loss < error:\n",
    "        print('last error:', e, error)\n",
    "        break\n",
    "    else:\n",
    "        last_loss = error"
   ]
  },
  {
   "cell_type": "code",
   "execution_count": 168,
   "metadata": {},
   "outputs": [
    {
     "data": {
      "text/plain": [
       "6.843476186078197e-08"
      ]
     },
     "execution_count": 168,
     "metadata": {},
     "output_type": "execute_result"
    }
   ],
   "source": [
    "error"
   ]
  },
  {
   "cell_type": "code",
   "execution_count": 174,
   "metadata": {},
   "outputs": [
    {
     "data": {
      "text/plain": [
       "array([[-0.04669004, -0.09338009, -0.11672511]])"
      ]
     },
     "execution_count": 174,
     "metadata": {},
     "output_type": "execute_result"
    }
   ],
   "source": [
    "weights\n"
   ]
  },
  {
   "cell_type": "code",
   "execution_count": 175,
   "metadata": {},
   "outputs": [
    {
     "data": {
      "text/plain": [
       "array([[ 0.29963004]])"
      ]
     },
     "execution_count": 175,
     "metadata": {},
     "output_type": "execute_result"
    }
   ],
   "source": [
    "output"
   ]
  },
  {
   "cell_type": "code",
   "execution_count": null,
   "metadata": {
    "collapsed": true
   },
   "outputs": [],
   "source": []
  }
 ],
 "metadata": {
  "anaconda-cloud": {},
  "kernelspec": {
   "display_name": "Python [conda env:scripts]",
   "language": "python",
   "name": "conda-env-scripts-py"
  },
  "language_info": {
   "codemirror_mode": {
    "name": "ipython",
    "version": 3
   },
   "file_extension": ".py",
   "mimetype": "text/x-python",
   "name": "python",
   "nbconvert_exporter": "python",
   "pygments_lexer": "ipython3",
   "version": "3.5.3"
  }
 },
 "nbformat": 4,
 "nbformat_minor": 1
}
